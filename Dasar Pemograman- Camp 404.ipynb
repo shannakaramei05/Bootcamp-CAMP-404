{
 "cells": [
  {
   "cell_type": "markdown",
   "id": "10b64b3c",
   "metadata": {},
   "source": [
    "1. Persoalan Sederhana \n",
    "- Menampilkan teks\n",
    "- Kalkulasi Angka \n",
    "- Input/Output "
   ]
  },
  {
   "cell_type": "code",
   "execution_count": 1,
   "id": "bafbbfa4",
   "metadata": {},
   "outputs": [
    {
     "name": "stdout",
     "output_type": "stream",
     "text": [
      "Hello World \n",
      "Welcome to my life\n",
      "Ikkeh So\n"
     ]
    }
   ],
   "source": [
    "# Menampilkan Teks\n",
    "print('Hello World ')\n",
    "print('Welcome to my life')\n",
    "print('Ikkeh So')"
   ]
  },
  {
   "cell_type": "code",
   "execution_count": 32,
   "id": "6835c952",
   "metadata": {},
   "outputs": [
    {
     "name": "stdout",
     "output_type": "stream",
     "text": [
      "Jari-Jari :7\n",
      "Luas : 154.0 cm^ 2\n"
     ]
    }
   ],
   "source": [
    "# Melakukan Kalkulasi \n",
    "## Luas Lingkaran \n",
    "def luas_lingkaran():\n",
    "    r=int(input('Jari-Jari :'))\n",
    "    if r % 7 ==0:\n",
    "        phi=22/7\n",
    "    else:\n",
    "        phi=3.14\n",
    "        \n",
    "    luas=phi*(r**2)\n",
    "    print('Luas :', luas, 'cm^ 2')\n",
    "    \n",
    "luas_lingkaran()\n"
   ]
  },
  {
   "cell_type": "code",
   "execution_count": 33,
   "id": "c24a14a9",
   "metadata": {
    "scrolled": true
   },
   "outputs": [
    {
     "name": "stdout",
     "output_type": "stream",
     "text": [
      "Panjang :3\n",
      "Luas Persegi adalah: 9 cm^2\n"
     ]
    }
   ],
   "source": [
    "# luas Persegi \n",
    "def luas_persegi():\n",
    "    s=int(input('Panjang :'))\n",
    "    luas=s**2\n",
    "    print('Luas Persegi adalah:', luas, 'cm^2')\n",
    "luas_persegi()"
   ]
  },
  {
   "cell_type": "code",
   "execution_count": 31,
   "id": "f4695a28",
   "metadata": {
    "scrolled": false
   },
   "outputs": [
    {
     "name": "stdout",
     "output_type": "stream",
     "text": [
      "Tinggi tabung :1\n",
      "Jari-jari Tabung:3\n",
      "VOlume Tabung 28.26 cm^3\n"
     ]
    }
   ],
   "source": [
    "# volume tabung \n",
    "def volume_tabung():\n",
    "    t=int(input('Tinggi tabung :'))\n",
    "    r=int(input('Jari-jari Tabung:'))\n",
    "    if r % 7 ==0:\n",
    "        phi=22/7\n",
    "    else:\n",
    "        phi=3.14\n",
    "    volume= phi*t*(r**2)\n",
    "    print('VOlume Tabung', volume, 'cm^3')\n",
    "    \n",
    "volume_tabung()"
   ]
  },
  {
   "cell_type": "code",
   "execution_count": 35,
   "id": "10851b13",
   "metadata": {},
   "outputs": [
    {
     "name": "stdout",
     "output_type": "stream",
     "text": [
      "luas persegi 16 cm^2\n"
     ]
    }
   ],
   "source": [
    "## Variasi Baru \n",
    "def ls_persegi(s):\n",
    "    luas= s**2\n",
    "    print('luas persegi', luas, 'cm^2')\n",
    "ls_persegi(4)"
   ]
  },
  {
   "cell_type": "code",
   "execution_count": 45,
   "id": "c87b2efc",
   "metadata": {},
   "outputs": [
    {
     "name": "stdout",
     "output_type": "stream",
     "text": [
      "Luas 4 9 16\n",
      "luas total 29\n"
     ]
    }
   ],
   "source": [
    "# Bujur sangkar \n",
    "def luas_bujursangkar(sisi_pertama,sisi_kedua,sisi_ketiga):\n",
    "    print('Luas', sisi_pertama **2 , sisi_kedua**2,sisi_ketiga**2)\n",
    "    print('luas total', sisi_pertama **2 + sisi_kedua**2+sisi_ketiga**2)\n",
    "\n",
    "luas_bujursangkar(2,3,4)"
   ]
  },
  {
   "cell_type": "markdown",
   "id": "d3f3a1f1",
   "metadata": {},
   "source": [
    "2. Percabangan dan Pengulangan \n",
    "- Percabangan/ Pemilihan kondisi \n",
    "- Pengulangan \n",
    "- Kombinasi "
   ]
  },
  {
   "cell_type": "code",
   "execution_count": 50,
   "id": "ac9ba8d3",
   "metadata": {},
   "outputs": [
    {
     "name": "stdout",
     "output_type": "stream",
     "text": [
      "password: 240499\n",
      "Anda Berhasil Login\n"
     ]
    }
   ],
   "source": [
    "# Login Password\n",
    "kunci=int(input(\"password: \"))\n",
    "if kunci==240499:\n",
    "    print('Anda Berhasil Login')\n",
    "else:\n",
    "    print('Password yang ada masukkan salah. Coba Lagi!')\n",
    "    "
   ]
  },
  {
   "cell_type": "code",
   "execution_count": 54,
   "id": "3c53637a",
   "metadata": {
    "scrolled": true
   },
   "outputs": [
    {
     "name": "stdout",
     "output_type": "stream",
     "text": [
      "5 adalah Ganjil\n",
      "4 adalah Genap\n"
     ]
    }
   ],
   "source": [
    "# Ganjil Genap\n",
    "def ganjil_genap(i):\n",
    "    if i % 2==0:\n",
    "        print(i,'adalah Genap')\n",
    "    else:\n",
    "        print(i, 'adalah Ganjil')\n",
    "        \n",
    "ganjil_genap(5)\n",
    "ganjil_genap(4)"
   ]
  },
  {
   "cell_type": "code",
   "execution_count": 58,
   "id": "d4ca3c8e",
   "metadata": {
    "scrolled": true
   },
   "outputs": [
    {
     "name": "stdout",
     "output_type": "stream",
     "text": [
      "Masukkan bilangan: -1\n",
      "Masukkan Bilangan Positif\n"
     ]
    }
   ],
   "source": [
    "# ganjil genap cara 2\n",
    "\n",
    "bil=int(input(\"Masukkan bilangan: \"))\n",
    "if (bil<0):\n",
    "    print('Masukkan Bilangan Positif')\n",
    "else:\n",
    "    if (bil % 2==0):\n",
    "        print('{0} adalah bilangan genap'.format(bil))\n",
    "    else:\n",
    "        print('{0} adalah bilangan ganjil'.format(bil))"
   ]
  },
  {
   "cell_type": "code",
   "execution_count": 65,
   "id": "81c81c26",
   "metadata": {
    "scrolled": true
   },
   "outputs": [
    {
     "name": "stdout",
     "output_type": "stream",
     "text": [
      "0\n",
      "1\n",
      "2\n",
      "3\n",
      "4\n",
      "5\n",
      "6\n",
      "7\n",
      "8\n",
      "9\n"
     ]
    }
   ],
   "source": [
    "# Pengulangan for \n",
    "for x in range(10):\n",
    "    print(x)"
   ]
  },
  {
   "cell_type": "code",
   "execution_count": 69,
   "id": "1ce2e3b3",
   "metadata": {
    "scrolled": true
   },
   "outputs": [
    {
     "name": "stdout",
     "output_type": "stream",
     "text": [
      "6\n",
      "7\n",
      "-10 -9 -8 -7 -6 -5 -4 -3 "
     ]
    }
   ],
   "source": [
    "for y in range (0):\n",
    "    print(y)\n",
    "for x in range(6,8):\n",
    "    print(x)\n",
    "for z in range (-10,-2):\n",
    "    print(z,end=\" \")"
   ]
  },
  {
   "cell_type": "code",
   "execution_count": 77,
   "id": "f784a6c8",
   "metadata": {},
   "outputs": [
    {
     "name": "stdout",
     "output_type": "stream",
     "text": [
      "1\n",
      "2\n",
      "3\n",
      "4\n"
     ]
    }
   ],
   "source": [
    "x=1\n",
    "y=5\n",
    "for i in range(x,y):\n",
    "    print(i)"
   ]
  },
  {
   "cell_type": "code",
   "execution_count": 94,
   "id": "a76b84b8",
   "metadata": {
    "scrolled": true
   },
   "outputs": [
    {
     "name": "stdout",
     "output_type": "stream",
     "text": [
      "Masukkan Batas bawah: 3\n",
      "Masukkan Batas Atas: 5\n",
      "3 5 "
     ]
    }
   ],
   "source": [
    "# Studi kasus \n",
    "x=int(input('Masukkan Batas bawah: '))\n",
    "y=int(input('Masukkan Batas Atas: '))\n",
    "for i in range(x,y+1):\n",
    "    if i % 2 ==1 :\n",
    "        print(i,end=' ')\n",
    "        "
   ]
  },
  {
   "cell_type": "code",
   "execution_count": 109,
   "id": "efd9221c",
   "metadata": {
    "scrolled": false
   },
   "outputs": [
    {
     "name": "stdout",
     "output_type": "stream",
     "text": [
      "18 15 12 9 6 3 "
     ]
    }
   ],
   "source": [
    "# tampilkan bilangan dari kelipatan 3 dari 0 sampai 20 terurut besar ke kecil\n",
    "x=20\n",
    "while x>0:\n",
    "    if x % 3==0:\n",
    "        print(x, end=' ')\n",
    "    x=x-1"
   ]
  },
  {
   "cell_type": "code",
   "execution_count": 108,
   "id": "dc2b4bb9",
   "metadata": {
    "scrolled": true
   },
   "outputs": [
    {
     "name": "stdout",
     "output_type": "stream",
     "text": [
      "0 3 6 9 12 15 18 "
     ]
    }
   ],
   "source": [
    "x=20\n",
    "for i in range(x):\n",
    "    if (i % 3)==0:\n",
    "        print(i, end=' ')"
   ]
  },
  {
   "cell_type": "code",
   "execution_count": 111,
   "id": "9f792b20",
   "metadata": {
    "scrolled": true
   },
   "outputs": [
    {
     "name": "stdout",
     "output_type": "stream",
     "text": [
      "Masukkan Angka: 3\n",
      "Ganjil\n",
      "lagi? (ya/tidak): ya\n",
      "Masukkan Angka: 2\n",
      "Genap\n",
      "lagi? (ya/tidak): tidak\n"
     ]
    }
   ],
   "source": [
    "# studi kasus Permainan sederhana ganjil genap\n",
    "selesai=False\n",
    "\n",
    "while not selesai:\n",
    "    angka=int(input('Masukkan Angka: '))\n",
    "    if (angka % 2) ==0:\n",
    "        print('Genap')\n",
    "    else:\n",
    "        print('Ganjil')\n",
    "    lanjut=input('lagi? (ya/tidak): ')\n",
    "    if lanjut == 'tidak':\n",
    "        selesai=True"
   ]
  },
  {
   "cell_type": "markdown",
   "id": "5930b668",
   "metadata": {},
   "source": [
    "3. Menggunakan fungsi \n",
    "- Membuat Fungsi\n",
    "- Memecahkan masalah dengan fungsi"
   ]
  },
  {
   "cell_type": "markdown",
   "id": "ec4724db",
   "metadata": {},
   "source": [
    "Fungsi -> algoritma yang dipanggil untuk melakukan aksi \n",
    "cth: print() dan Input()"
   ]
  },
  {
   "cell_type": "code",
   "execution_count": 117,
   "id": "938db96e",
   "metadata": {},
   "outputs": [
    {
     "name": "stdout",
     "output_type": "stream",
     "text": [
      "Hallo, Rahmat, ini dari Google, Selamat Kamu diterima di  Google!\n"
     ]
    }
   ],
   "source": [
    "# Contoh \n",
    "def hallo(nama, ucapan):\n",
    "    print('Hallo, %s, ini dari Google, Selamat Kamu diterima di %s!'%(nama,ucapan))\n",
    "hallo('Rahmat', ' Google')"
   ]
  },
  {
   "cell_type": "code",
   "execution_count": 118,
   "id": "61aa67c6",
   "metadata": {},
   "outputs": [
    {
     "name": "stdout",
     "output_type": "stream",
     "text": [
      "sisi: 5\n",
      " Luasnya adalah:  25\n"
     ]
    }
   ],
   "source": [
    "# fungsi dengan Luaran\n",
    "def luasbjsk(sisi):\n",
    "    return sisi*sisi\n",
    "sisi=int(input(\"sisi: \"))\n",
    "print(\" Luasnya adalah: \", luasbjsk(sisi))"
   ]
  },
  {
   "cell_type": "code",
   "execution_count": 125,
   "id": "de5c73aa",
   "metadata": {},
   "outputs": [
    {
     "name": "stdout",
     "output_type": "stream",
     "text": [
      "Jumlah: 4\n",
      "Harga : 20000\n",
      "75000\n"
     ]
    }
   ],
   "source": [
    "# Fungsi untuk Kasir \n",
    "jumlah=int(input('Jumlah: '))\n",
    "hargasatuan=int(input('Harga : '))\n",
    "\n",
    "def hitungTotal(jumlah,hargasatuan):\n",
    "    return jumlah*hargasatuan\n",
    "def hitungNet(jumlah,hargasatuan):\n",
    "    return jumlah*hargasatuan -5000\n",
    "\n",
    "if (hitungTotal(jumlah,hargasatuan)>=50000):\n",
    "    print(hitungNet(jumlah,hargasatuan))\n",
    "else:\n",
    "    print(hitungTotal(jumlah,hargasatuan))"
   ]
  },
  {
   "cell_type": "code",
   "execution_count": 1,
   "id": "435a5455",
   "metadata": {},
   "outputs": [
    {
     "ename": "IndentationError",
     "evalue": "expected an indented block (Temp/ipykernel_11676/450322032.py, line 14)",
     "output_type": "error",
     "traceback": [
      "\u001b[1;36m  File \u001b[1;32m\"C:\\Users\\Weed\\AppData\\Local\\Temp/ipykernel_11676/450322032.py\"\u001b[1;36m, line \u001b[1;32m14\u001b[0m\n\u001b[1;33m    else:\u001b[0m\n\u001b[1;37m    ^\u001b[0m\n\u001b[1;31mIndentationError\u001b[0m\u001b[1;31m:\u001b[0m expected an indented block\n"
     ]
    }
   ],
   "source": [
    "# Tugas Besar 5 \n",
    "# permainan tebak angka \n",
    "def tebak_angka():\n",
    "    r=input('Angka yang ada Masukkan:(1-dst) ')\n",
    "    q1=print('Apakah bilang kurang dari 10?')\n",
    "    a1=input('ya/tidak')\n",
    "    if a1=='ya':\n",
    "        return True\n",
    "        if r<10:\n",
    "            q2=print('Apakah Bilangan tersebut Genap?')\n",
    "            a2=inpit('ya/tidak')\n",
    "            if a2=='ya':\n",
    "                \n",
    "    else:\n",
    "        r='Ganjil'\n",
    "    \n",
    "    \n",
    "    q2=input('ya/tidak')\n",
    "    if q1=='ya':\n",
    "    \n",
    "    else:\n",
    "    \n",
    "    q3=input('ya/tidak')\n",
    "    if q1=='ya':\n",
    "    \n",
    "    else:\n",
    "        \n",
    "    q4=input('ya/tidak')\n",
    "    if q1=='ya':\n",
    "    \n",
    "    else:\n",
    "    \n",
    "    \n",
    "    print('Angka yang anda pikirkan adalah: ', i)\n",
    "    "
   ]
  }
 ],
 "metadata": {
  "kernelspec": {
   "display_name": "Python 3 (ipykernel)",
   "language": "python",
   "name": "python3"
  },
  "language_info": {
   "codemirror_mode": {
    "name": "ipython",
    "version": 3
   },
   "file_extension": ".py",
   "mimetype": "text/x-python",
   "name": "python",
   "nbconvert_exporter": "python",
   "pygments_lexer": "ipython3",
   "version": "3.8.11"
  }
 },
 "nbformat": 4,
 "nbformat_minor": 5
}
